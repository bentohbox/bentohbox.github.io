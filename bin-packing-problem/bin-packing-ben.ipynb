{
 "cells": [
  {
   "cell_type": "code",
   "execution_count": 1,
   "id": "0ee28f3a",
   "metadata": {},
   "outputs": [],
   "source": [
    "import numpy as np\n",
    "\n",
    "# visualisation\n",
    "import plotly.graph_objects as go\n",
    "from plotly.colors import sample_colorscale"
   ]
  },
  {
   "cell_type": "markdown",
   "id": "8f947abe",
   "metadata": {},
   "source": [
    "### Bin class"
   ]
  },
  {
   "cell_type": "code",
   "execution_count": null,
   "id": "ab135d59",
   "metadata": {},
   "outputs": [],
   "source": [
    "class Bin:\n",
    "    def __init__(self, length, breadth, height):\n",
    "        self.length = length\n",
    "        self.breadth = breadth\n",
    "        self.height = height\n",
    "        self.items = [] # list of items already in bin\n",
    "        \n",
    "    def can_fit(self, item, position, placed_items):\n",
    "        l,b,h = item.positions[position] \n",
    "        #obtain dimensions of the item iteration at the current position iteration (0-5)\n",
    "        \n",
    "        # here, we iterate over the possible coordinates with nested for-loops \n",
    "        # starting with the z axis since logicaly, we want to place items from the bottom up \n",
    "        for z in range(self.height - h + 1):\n",
    "            for y in range(self.height - b + 1):\n",
    "                for x in range(self.height - l + 1):\n",
    "                    if not self.overlaps(x, y, z, l, b, h, placed_items):\n",
    "                        item.set_position(position , (x,y,z))\n",
    "                        return True\n",
    "        return False\n",
    "                \n",
    "                \n",
    "    def overlaps(self, x, y, z, l, b, h, placed_items):\n",
    "        \n",
    "        \n",
    "        \n",
    "        "
   ]
  },
  {
   "cell_type": "markdown",
   "id": "13ba7662",
   "metadata": {},
   "source": [
    "### Item"
   ]
  },
  {
   "cell_type": "code",
   "execution_count": null,
   "id": "c093b93f",
   "metadata": {},
   "outputs": [],
   "source": [
    "class Item:\n",
    "    def __init__(self, length, breadth, height, id):\n",
    "        self.length = length\n",
    "        self.breadth = breadth\n",
    "        self.height = height\n",
    "        self.id = id\n",
    "        \n",
    "        self.positions = self.get_positions() # get the different orientations of the item as a tuple with\n",
    "        # 3 dimensions\n",
    "        \n",
    "        self.position = None # the index of the chosen position\n",
    "        \n",
    "        self.coordinates = None # the coordinate where the item is places\n",
    "        \n",
    "        def get_positions(self): # each 3d object has 6 positions\n",
    "            return((self.length, self.breadth, self.height),\n",
    "                   (self.length, self.height, self.breadth),\n",
    "                   (self.breadth, self.height, self.length),\n",
    "                   (self.breadth, self.length, self.height),\n",
    "                   (self.height, self.breadth, self.length),\n",
    "                   (self.height, self.length, self.breadth)\n",
    "            )\n",
    "        \n",
    "        def set_position(self, pos, coordinates): \n",
    "            # this method is used in the main algorithm to set the item in place\n",
    "            self.position = pos\n",
    "            self.coordinates = coordinates\n",
    "        \n",
    "        "
   ]
  },
  {
   "cell_type": "markdown",
   "id": "177af14b",
   "metadata": {},
   "source": [
    "### Algorithm"
   ]
  },
  {
   "cell_type": "markdown",
   "id": "909efab2",
   "metadata": {},
   "source": [
    "### Visualisation"
   ]
  },
  {
   "cell_type": "code",
   "execution_count": null,
   "id": "7080f44d",
   "metadata": {},
   "outputs": [],
   "source": []
  }
 ],
 "metadata": {
  "kernelspec": {
   "display_name": "Python 3 (ipykernel)",
   "language": "python",
   "name": "python3"
  },
  "language_info": {
   "codemirror_mode": {
    "name": "ipython",
    "version": 3
   },
   "file_extension": ".py",
   "mimetype": "text/x-python",
   "name": "python",
   "nbconvert_exporter": "python",
   "pygments_lexer": "ipython3",
   "version": "3.9.12"
  }
 },
 "nbformat": 4,
 "nbformat_minor": 5
}
